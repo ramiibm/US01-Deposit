{
 "cells": [
  {
   "cell_type": "markdown",
   "metadata": {},
   "source": [
    "test svm, neighbours, decision tree, forest, neural network"
   ]
  },
  {
   "cell_type": "code",
   "execution_count": 1,
   "metadata": {},
   "outputs": [],
   "source": [
    "import pandas as pd\n",
    "import numpy as np"
   ]
  },
  {
   "cell_type": "code",
   "execution_count": 2,
   "metadata": {},
   "outputs": [],
   "source": [
    "data = pd.read_csv('../Classification/UTSEUS-anjuke-real-estate-baoshan.csv')\n",
    "X = data[['longitude', 'latitude', 'bedroom', 'room', 'surface']]\n",
    "Y = data['onesquaremeter']\n",
    "from sklearn.preprocessing import MinMaxScaler\n",
    "X = MinMaxScaler().fit_transform(X)"
   ]
  },
  {
   "cell_type": "code",
   "execution_count": 3,
   "metadata": {},
   "outputs": [
    {
     "data": {
      "text/plain": [
       "array([[0.25752705, 0.25162597, 0.125     , 0.22222222, 0.01626016],\n",
       "       [0.47458315, 0.19618233, 0.        , 0.11111111, 0.02276423],\n",
       "       [0.44090217, 0.15866316, 0.25      , 0.22222222, 0.06666667],\n",
       "       ...,\n",
       "       [0.57659544, 0.31875486, 0.        , 0.22222222, 0.01219512],\n",
       "       [0.57659544, 0.31875486, 0.125     , 0.22222222, 0.04065041],\n",
       "       [0.44214924, 0.49698795, 0.125     , 0.22222222, 0.06747967]])"
      ]
     },
     "execution_count": 3,
     "metadata": {},
     "output_type": "execute_result"
    }
   ],
   "source": [
    "X"
   ]
  },
  {
   "cell_type": "code",
   "execution_count": 4,
   "metadata": {},
   "outputs": [],
   "source": [
    "from sklearn.model_selection import train_test_split\n",
    "X_train, X_test, Y_train, Y_test = train_test_split(X, Y, test_size=0.33, random_state=42)"
   ]
  },
  {
   "cell_type": "code",
   "execution_count": 5,
   "metadata": {},
   "outputs": [
    {
     "data": {
      "text/plain": [
       "LinearRegression(copy_X=True, fit_intercept=True, n_jobs=None, normalize=False)"
      ]
     },
     "execution_count": 5,
     "metadata": {},
     "output_type": "execute_result"
    }
   ],
   "source": [
    "from sklearn import linear_model\n",
    "reg = linear_model.LinearRegression()\n",
    "reg.fit(X,Y)"
   ]
  },
  {
   "cell_type": "markdown",
   "metadata": {},
   "source": [
    "coef: impact of the features with respect to the price, which one of the features has the most influence"
   ]
  },
  {
   "cell_type": "code",
   "execution_count": 6,
   "metadata": {},
   "outputs": [
    {
     "data": {
      "text/plain": [
       "array([ 17821.32798121, -45640.17364871, -13087.30312646,   4120.35543218,\n",
       "        96021.19394859])"
      ]
     },
     "execution_count": 6,
     "metadata": {},
     "output_type": "execute_result"
    }
   ],
   "source": [
    "reg.coef_"
   ]
  },
  {
   "cell_type": "code",
   "execution_count": 7,
   "metadata": {},
   "outputs": [],
   "source": [
    "Y_pred = reg.predict(X_test)"
   ]
  },
  {
   "cell_type": "code",
   "execution_count": 8,
   "metadata": {},
   "outputs": [
    {
     "data": {
      "text/plain": [
       "6864.333556684416"
      ]
     },
     "execution_count": 8,
     "metadata": {},
     "output_type": "execute_result"
    }
   ],
   "source": [
    "np.mean(np.abs(Y_pred - Y_test))"
   ]
  },
  {
   "cell_type": "code",
   "execution_count": 10,
   "metadata": {},
   "outputs": [
    {
     "data": {
      "text/plain": [
       "(array([1.500e+01, 1.300e+02, 6.310e+02, 8.560e+02, 1.817e+03, 1.686e+03,\n",
       "        1.976e+03, 4.431e+03, 7.116e+03, 6.310e+03, 4.329e+03, 2.774e+03,\n",
       "        1.470e+03, 6.090e+02, 2.120e+02, 2.100e+01, 1.000e+01, 1.000e+01,\n",
       "        1.200e+01, 1.000e+00]),\n",
       " array([  1562.5       ,   6645.66532258,  11728.83064516,  16811.99596774,\n",
       "         21895.16129032,  26978.3266129 ,  32061.49193548,  37144.65725806,\n",
       "         42227.82258065,  47310.98790323,  52394.15322581,  57477.31854839,\n",
       "         62560.48387097,  67643.64919355,  72726.81451613,  77809.97983871,\n",
       "         82893.14516129,  87976.31048387,  93059.47580645,  98142.64112903,\n",
       "        103225.80645161]),\n",
       " <a list of 20 Patch objects>)"
      ]
     },
     "execution_count": 10,
     "metadata": {},
     "output_type": "execute_result"
    },
    {
     "data": {
      "image/png": "[encoded data removed]",
      "text/plain": [
       "<Figure size 432x288 with 1 Axes>"
      ]
     },
     "metadata": {
      "needs_background": "light"
     },
     "output_type": "display_data"
    }
   ],
   "source": [
    "import matplotlib.pyplot as plt\n",
    "plt.hist(Y, 20)"
   ]
  },
  {
   "cell_type": "code",
   "execution_count": 11,
   "metadata": {},
   "outputs": [
    {
     "data": {
      "text/plain": [
       "(array([   3.,    3.,   30.,  117.,  348.,  645., 1273., 2153., 2477.,\n",
       "        2157., 1064.,  437.,  329.,  164.,   48.,   40.,   43.,   16.,\n",
       "           8.,    3.]),\n",
       " array([-37034.21284129, -32673.20751741, -28312.20219353, -23951.19686965,\n",
       "        -19590.19154577, -15229.18622189, -10868.180898  ,  -6507.17557412,\n",
       "         -2146.17025024,   2214.83507364,   6575.84039752,  10936.8457214 ,\n",
       "         15297.85104528,  19658.85636917,  24019.86169305,  28380.86701693,\n",
       "         32741.87234081,  37102.87766469,  41463.88298857,  45824.88831245,\n",
       "         50185.89363633]),\n",
       " <a list of 20 Patch objects>)"
      ]
     },
     "execution_count": 11,
     "metadata": {},
     "output_type": "execute_result"
    },
    {
     "data": {
      "image/png": "[encoded data removed]",
      "text/plain": [
       "<Figure size 432x288 with 1 Axes>"
      ]
     },
     "metadata": {
      "needs_background": "light"
     },
     "output_type": "display_data"
    }
   ],
   "source": [
    "plt.hist(Y_pred - Y_test, 20)"
   ]
  },
  {
   "cell_type": "code",
   "execution_count": 12,
   "metadata": {},
   "outputs": [
    {
     "data": {
      "text/plain": [
       "(array([2.859e+03, 2.644e+03, 1.921e+03, 1.414e+03, 8.370e+02, 4.990e+02,\n",
       "        4.900e+02, 2.640e+02, 1.710e+02, 8.700e+01, 3.300e+01, 3.500e+01,\n",
       "        3.100e+01, 3.700e+01, 9.000e+00, 7.000e+00, 1.300e+01, 3.000e+00,\n",
       "        3.000e+00, 1.000e+00]),\n",
       " array([2.18920707e+00, 2.51137443e+03, 5.02055965e+03, 7.52974487e+03,\n",
       "        1.00389301e+04, 1.25481153e+04, 1.50573005e+04, 1.75664858e+04,\n",
       "        2.00756710e+04, 2.25848562e+04, 2.50940414e+04, 2.76032266e+04,\n",
       "        3.01124119e+04, 3.26215971e+04, 3.51307823e+04, 3.76399675e+04,\n",
       "        4.01491528e+04, 4.26583380e+04, 4.51675232e+04, 4.76767084e+04,\n",
       "        5.01858936e+04]),\n",
       " <a list of 20 Patch objects>)"
      ]
     },
     "execution_count": 12,
     "metadata": {},
     "output_type": "execute_result"
    },
    {
     "data": {
      "image/png": "[encoded data removed]",
      "text/plain": [
       "<Figure size 432x288 with 1 Axes>"
      ]
     },
     "metadata": {
      "needs_background": "light"
     },
     "output_type": "display_data"
    }
   ],
   "source": [
    "plt.hist(np.abs(Y_pred - Y_test), 20)"
   ]
  },
  {
   "cell_type": "markdown",
   "metadata": {},
   "source": [
    "a lot of errors -> no linear relation between the price and this component"
   ]
  },
  {
   "cell_type": "markdown",
   "metadata": {},
   "source": [
    "Gradient Tree Boosting"
   ]
  },
  {
   "cell_type": "code",
   "execution_count": 13,
   "metadata": {},
   "outputs": [
    {
     "data": {
      "text/plain": [
       "GridSearchCV(cv=5, error_score='raise-deprecating',\n",
       "             estimator=GradientBoostingRegressor(alpha=0.9,\n",
       "                                                 criterion='friedman_mse',\n",
       "                                                 init=None, learning_rate=0.1,\n",
       "                                                 loss='ls', max_depth=3,\n",
       "                                                 max_features=None,\n",
       "                                                 max_leaf_nodes=None,\n",
       "                                                 min_impurity_decrease=0.0,\n",
       "                                                 min_impurity_split=None,\n",
       "                                                 min_samples_leaf=1,\n",
       "                                                 min_samples_split=2,\n",
       "                                                 min_weight_fraction_leaf=0.0,\n",
       "                                                 n_estimators=100,\n",
       "                                                 n_iter_no_change=None,\n",
       "                                                 presort='auto',\n",
       "                                                 random_state=None,\n",
       "                                                 subsample=1.0, tol=0.0001,\n",
       "                                                 validation_fraction=0.1,\n",
       "                                                 verbose=0, warm_start=False),\n",
       "             iid='warn', n_jobs=None,\n",
       "             param_grid={'n_estimators': [100, 200, 300, 400, 500]},\n",
       "             pre_dispatch='2*n_jobs', refit=True, return_train_score=False,\n",
       "             scoring=None, verbose=0)"
      ]
     },
     "execution_count": 13,
     "metadata": {},
     "output_type": "execute_result"
    }
   ],
   "source": [
    "from sklearn.ensemble import GradientBoostingRegressor\n",
    "from sklearn.model_selection import GridSearchCV\n",
    "param_grid = {'n_estimators': [100, 200, 300, 400, 500]}\n",
    "reg = GradientBoostingRegressor()\n",
    "search = GridSearchCV(reg, param_grid, cv=5)\n",
    "search.fit(X_train,Y_train)"
   ]
  },
  {
   "cell_type": "code",
   "execution_count": 14,
   "metadata": {},
   "outputs": [
    {
     "data": {
      "text/plain": [
       "{'n_estimators': 500}"
      ]
     },
     "execution_count": 14,
     "metadata": {},
     "output_type": "execute_result"
    }
   ],
   "source": [
    "search.best_params_"
   ]
  },
  {
   "cell_type": "code",
   "execution_count": 15,
   "metadata": {},
   "outputs": [
    {
     "data": {
      "text/plain": [
       "GradientBoostingRegressor(alpha=0.9, criterion='friedman_mse', init=None,\n",
       "                          learning_rate=0.1, loss='ls', max_depth=3,\n",
       "                          max_features=None, max_leaf_nodes=None,\n",
       "                          min_impurity_decrease=0.0, min_impurity_split=None,\n",
       "                          min_samples_leaf=1, min_samples_split=2,\n",
       "                          min_weight_fraction_leaf=0.0, n_estimators=500,\n",
       "                          n_iter_no_change=None, presort='auto',\n",
       "                          random_state=None, subsample=1.0, tol=0.0001,\n",
       "                          validation_fraction=0.1, verbose=0, warm_start=False)"
      ]
     },
     "execution_count": 15,
     "metadata": {},
     "output_type": "execute_result"
    }
   ],
   "source": [
    "reg = GradientBoostingRegressor(n_estimators=500)\n",
    "reg.fit(X_train,Y_train)"
   ]
  },
  {
   "cell_type": "code",
   "execution_count": 16,
   "metadata": {},
   "outputs": [],
   "source": [
    "Y_pred = reg.predict(X_test)"
   ]
  },
  {
   "cell_type": "code",
   "execution_count": 17,
   "metadata": {},
   "outputs": [
    {
     "data": {
      "text/plain": [
       "4458.441399427079"
      ]
     },
     "execution_count": 17,
     "metadata": {},
     "output_type": "execute_result"
    }
   ],
   "source": [
    "np.mean(np.abs(Y_pred - Y_test))"
   ]
  },
  {
   "cell_type": "code",
   "execution_count": 18,
   "metadata": {},
   "outputs": [
    {
     "data": {
      "text/plain": [
       "(array([4.748e+03, 3.015e+03, 1.624e+03, 7.750e+02, 4.580e+02, 2.950e+02,\n",
       "        1.840e+02, 8.400e+01, 6.400e+01, 7.000e+01, 1.600e+01, 8.000e+00,\n",
       "        3.000e+00, 7.000e+00, 2.000e+00, 2.000e+00, 1.000e+00, 0.000e+00,\n",
       "        0.000e+00, 2.000e+00]),\n",
       " array([1.69209753e-01, 2.47503240e+03, 4.94989559e+03, 7.42475879e+03,\n",
       "        9.89962198e+03, 1.23744852e+04, 1.48493484e+04, 1.73242116e+04,\n",
       "        1.97990747e+04, 2.22739379e+04, 2.47488011e+04, 2.72236643e+04,\n",
       "        2.96985275e+04, 3.21733907e+04, 3.46482539e+04, 3.71231171e+04,\n",
       "        3.95979803e+04, 4.20728435e+04, 4.45477067e+04, 4.70225699e+04,\n",
       "        4.94974331e+04]),\n",
       " <a list of 20 Patch objects>)"
      ]
     },
     "execution_count": 18,
     "metadata": {},
     "output_type": "execute_result"
    },
    {
     "data": {
      "image/png": "[encoded data removed]",
      "text/plain": [
       "<Figure size 432x288 with 1 Axes>"
      ]
     },
     "metadata": {
      "needs_background": "light"
     },
     "output_type": "display_data"
    }
   ],
   "source": [
    "plt.hist(np.abs(Y_pred - Y_test), 20)"
   ]
  },
  {
   "cell_type": "markdown",
   "metadata": {},
   "source": [
    "Support Vector Regression"
   ]
  },
  {
   "cell_type": "code",
   "execution_count": 34,
   "metadata": {},
   "outputs": [
    {
     "data": {
      "text/plain": [
       "GridSearchCV(cv=5, error_score='raise-deprecating',\n",
       "             estimator=SVR(C=1.0, cache_size=200, coef0=0.0, degree=3,\n",
       "                           epsilon=0.1, gamma='auto_deprecated', kernel='rbf',\n",
       "                           max_iter=-1, shrinking=True, tol=0.001,\n",
       "                           verbose=False),\n",
       "             iid='warn', n_jobs=None,\n",
       "             param_grid={'gamma': ['auto', 'scale'],\n",
       "                         'kernel': ['rbf', 'linear', 'poly']},\n",
       "             pre_dispatch='2*n_jobs', refit=True, return_train_score=False,\n",
       "             scoring=None, verbose=0)"
      ]
     },
     "execution_count": 34,
     "metadata": {},
     "output_type": "execute_result"
    }
   ],
   "source": [
    "from sklearn.svm import SVR\n",
    "param_grid = {'kernel': ['rbf', 'linear', 'poly'], 'gamma': ['auto', 'scale']}\n",
    "reg = SVR()\n",
    "search = GridSearchCV(reg, param_grid, cv=5)\n",
    "search.fit(X_train,Y_train)"
   ]
  },
  {
   "cell_type": "code",
   "execution_count": 35,
   "metadata": {},
   "outputs": [
    {
     "data": {
      "text/plain": [
       "{'gamma': 'scale', 'kernel': 'poly'}"
      ]
     },
     "execution_count": 35,
     "metadata": {},
     "output_type": "execute_result"
    }
   ],
   "source": [
    "search.best_params_"
   ]
  },
  {
   "cell_type": "code",
   "execution_count": 47,
   "metadata": {},
   "outputs": [
    {
     "data": {
      "text/plain": [
       "SVR(C=1.0, cache_size=200, coef0=0.0, degree=3, epsilon=0.1, gamma='scale',\n",
       "    kernel='poly', max_iter=-1, shrinking=True, tol=0.001, verbose=False)"
      ]
     },
     "execution_count": 47,
     "metadata": {},
     "output_type": "execute_result"
    }
   ],
   "source": [
    "reg = SVR(kernel='poly', gamma='scale')\n",
    "reg.fit(X_train,Y_train)"
   ]
  },
  {
   "cell_type": "code",
   "execution_count": 48,
   "metadata": {},
   "outputs": [],
   "source": [
    "Y_pred = reg.predict(X_test)"
   ]
  },
  {
   "cell_type": "code",
   "execution_count": 49,
   "metadata": {},
   "outputs": [
    {
     "data": {
      "text/plain": [
       "7284.819306704455"
      ]
     },
     "execution_count": 49,
     "metadata": {},
     "output_type": "execute_result"
    }
   ],
   "source": [
    "np.mean(np.abs(Y_pred - Y_test))"
   ]
  },
  {
   "cell_type": "code",
   "execution_count": 50,
   "metadata": {},
   "outputs": [
    {
     "data": {
      "text/plain": [
       "(array([3.381e+03, 2.743e+03, 1.796e+03, 1.086e+03, 8.450e+02, 5.880e+02,\n",
       "        3.580e+02, 2.030e+02, 2.040e+02, 2.600e+01, 2.200e+01, 3.300e+01,\n",
       "        4.600e+01, 1.500e+01, 7.000e+00, 0.000e+00, 1.000e+00, 2.000e+00,\n",
       "        0.000e+00, 2.000e+00]),\n",
       " array([9.99330915e-02, 2.93106070e+03, 5.86202146e+03, 8.79298223e+03,\n",
       "        1.17239430e+04, 1.46549038e+04, 1.75858645e+04, 2.05168253e+04,\n",
       "        2.34477860e+04, 2.63787468e+04, 2.93097076e+04, 3.22406683e+04,\n",
       "        3.51716291e+04, 3.81025899e+04, 4.10335506e+04, 4.39645114e+04,\n",
       "        4.68954722e+04, 4.98264329e+04, 5.27573937e+04, 5.56883545e+04,\n",
       "        5.86193152e+04]),\n",
       " <a list of 20 Patch objects>)"
      ]
     },
     "execution_count": 50,
     "metadata": {},
     "output_type": "execute_result"
    },
    {
     "data": {
      "image/png": "[encoded data removed]",
      "text/plain": [
       "<Figure size 432x288 with 1 Axes>"
      ]
     },
     "metadata": {
      "needs_background": "light"
     },
     "output_type": "display_data"
    }
   ],
   "source": [
    "plt.hist(np.abs(Y_pred - Y_test), 20)"
   ]
  },
  {
   "cell_type": "code",
   "execution_count": null,
   "metadata": {},
   "outputs": [],
   "source": []
  }
 ],
 "metadata": {
  "kernelspec": {
   "display_name": "Python 3",
   "language": "python",
   "name": "python3"
  },
  "language_info": {
   "codemirror_mode": {
    "name": "ipython",
    "version": 3
   },
   "file_extension": ".py",
   "mimetype": "text/x-python",
   "name": "python",
   "nbconvert_exporter": "python",
   "pygments_lexer": "ipython3",
   "version": "3.7.3"
  }
 },
 "nbformat": 4,
 "nbformat_minor": 4
}
