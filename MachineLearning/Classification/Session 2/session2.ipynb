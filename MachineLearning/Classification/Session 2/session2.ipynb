{
 "cells": [
  {
   "cell_type": "code",
   "execution_count": 1,
   "metadata": {},
   "outputs": [],
   "source": [
    "import pandas as pd"
   ]
  },
  {
   "cell_type": "code",
   "execution_count": 2,
   "metadata": {},
   "outputs": [],
   "source": [
    "df = pd.read_csv('../UTSEUS-anjuke-real-estate-baoshan.csv')"
   ]
  },
  {
   "cell_type": "code",
   "execution_count": 3,
   "metadata": {},
   "outputs": [
    {
     "data": {
      "text/html": [
       "<div>\n",
       "<style scoped>\n",
       "    .dataframe tbody tr th:only-of-type {\n",
       "        vertical-align: middle;\n",
       "    }\n",
       "\n",
       "    .dataframe tbody tr th {\n",
       "        vertical-align: top;\n",
       "    }\n",
       "\n",
       "    .dataframe thead th {\n",
       "        text-align: right;\n",
       "    }\n",
       "</style>\n",
       "<table border=\"1\" class=\"dataframe\">\n",
       "  <thead>\n",
       "    <tr style=\"text-align: right;\">\n",
       "      <th></th>\n",
       "      <th>id</th>\n",
       "      <th>address</th>\n",
       "      <th>longitude</th>\n",
       "      <th>latitude</th>\n",
       "      <th>bedroom</th>\n",
       "      <th>room</th>\n",
       "      <th>surface</th>\n",
       "      <th>price</th>\n",
       "      <th>onesquaremeter</th>\n",
       "      <th>tags</th>\n",
       "      <th>district</th>\n",
       "      <th>neighborhood</th>\n",
       "      <th>done</th>\n",
       "    </tr>\n",
       "  </thead>\n",
       "  <tbody>\n",
       "    <tr>\n",
       "      <th>0</th>\n",
       "      <td>A888553302</td>\n",
       "      <td>宝山-大场  金地艺境(宝山)(555弄)</td>\n",
       "      <td>121.343927</td>\n",
       "      <td>31.319356</td>\n",
       "      <td>2</td>\n",
       "      <td>2</td>\n",
       "      <td>30.0</td>\n",
       "      <td>1160000.0</td>\n",
       "      <td>38666.666667</td>\n",
       "      <td>金地开发 **首推 地铁首通 价格首降 配套就是你能想到的</td>\n",
       "      <td>baoshan</td>\n",
       "      <td>dachang</td>\n",
       "      <td>1</td>\n",
       "    </tr>\n",
       "    <tr>\n",
       "      <th>1</th>\n",
       "      <td>A888376847</td>\n",
       "      <td>宝山-大场  骏华苑</td>\n",
       "      <td>121.407325</td>\n",
       "      <td>31.302368</td>\n",
       "      <td>1</td>\n",
       "      <td>1</td>\n",
       "      <td>38.0</td>\n",
       "      <td>1950000.0</td>\n",
       "      <td>51315.789474</td>\n",
       "      <td>龙璟公馆嘉兴市近万达广场，北大附属实验校区，地铁沿线高铁站旁</td>\n",
       "      <td>baoshan</td>\n",
       "      <td>dachang</td>\n",
       "      <td>1</td>\n",
       "    </tr>\n",
       "    <tr>\n",
       "      <th>2</th>\n",
       "      <td>A885088482</td>\n",
       "      <td>宝山-大场  琉樽尚品(255弄)</td>\n",
       "      <td>121.397487</td>\n",
       "      <td>31.290871</td>\n",
       "      <td>3</td>\n",
       "      <td>2</td>\n",
       "      <td>92.0</td>\n",
       "      <td>5350000.0</td>\n",
       "      <td>58152.173913</td>\n",
       "      <td>92+7平书房，婚房装修30万！满2年税少11万！再降20万</td>\n",
       "      <td>baoshan</td>\n",
       "      <td>dachang</td>\n",
       "      <td>1</td>\n",
       "    </tr>\n",
       "    <tr>\n",
       "      <th>3</th>\n",
       "      <td>A885392981</td>\n",
       "      <td>宝山-大场  琉樽尚品（255弄）</td>\n",
       "      <td>121.397487</td>\n",
       "      <td>31.290871</td>\n",
       "      <td>2</td>\n",
       "      <td>2</td>\n",
       "      <td>68.0</td>\n",
       "      <td>4350000.0</td>\n",
       "      <td>63970.588235</td>\n",
       "      <td>中环景观，电梯复式，豪装45万全送，拎包入住，小格局大设计，</td>\n",
       "      <td>baoshan</td>\n",
       "      <td>dachang</td>\n",
       "      <td>1</td>\n",
       "    </tr>\n",
       "    <tr>\n",
       "      <th>4</th>\n",
       "      <td>A885831305</td>\n",
       "      <td>宝山-大场  美好家小区</td>\n",
       "      <td>121.421397</td>\n",
       "      <td>31.302658</td>\n",
       "      <td>2</td>\n",
       "      <td>2</td>\n",
       "      <td>80.0</td>\n",
       "      <td>4000000.0</td>\n",
       "      <td>50000.000000</td>\n",
       "      <td>美好家南北通精装2房板式房型采光好随时好看带天井</td>\n",
       "      <td>baoshan</td>\n",
       "      <td>dachang</td>\n",
       "      <td>1</td>\n",
       "    </tr>\n",
       "  </tbody>\n",
       "</table>\n",
       "</div>"
      ],
      "text/plain": [
       "           id                address   longitude   latitude  bedroom  room  \\\n",
       "0  A888553302  宝山-大场  金地艺境(宝山)(555弄)  121.343927  31.319356        2     2   \n",
       "1  A888376847             宝山-大场  骏华苑  121.407325  31.302368        1     1   \n",
       "2  A885088482      宝山-大场  琉樽尚品(255弄)  121.397487  31.290871        3     2   \n",
       "3  A885392981      宝山-大场  琉樽尚品（255弄）  121.397487  31.290871        2     2   \n",
       "4  A885831305           宝山-大场  美好家小区  121.421397  31.302658        2     2   \n",
       "\n",
       "   surface      price  onesquaremeter                            tags  \\\n",
       "0     30.0  1160000.0    38666.666667   金地开发 **首推 地铁首通 价格首降 配套就是你能想到的   \n",
       "1     38.0  1950000.0    51315.789474  龙璟公馆嘉兴市近万达广场，北大附属实验校区，地铁沿线高铁站旁   \n",
       "2     92.0  5350000.0    58152.173913  92+7平书房，婚房装修30万！满2年税少11万！再降20万   \n",
       "3     68.0  4350000.0    63970.588235  中环景观，电梯复式，豪装45万全送，拎包入住，小格局大设计，   \n",
       "4     80.0  4000000.0    50000.000000        美好家南北通精装2房板式房型采光好随时好看带天井   \n",
       "\n",
       "  district neighborhood  done  \n",
       "0  baoshan      dachang     1  \n",
       "1  baoshan      dachang     1  \n",
       "2  baoshan      dachang     1  \n",
       "3  baoshan      dachang     1  \n",
       "4  baoshan      dachang     1  "
      ]
     },
     "execution_count": 3,
     "metadata": {},
     "output_type": "execute_result"
    }
   ],
   "source": [
    "df.head()"
   ]
  },
  {
   "cell_type": "code",
   "execution_count": 5,
   "metadata": {},
   "outputs": [],
   "source": [
    "X = df[['longitude', 'latitude', 'bedroom', 'room', 'surface']]\n",
    "Y = df['onesquaremeter']"
   ]
  },
  {
   "cell_type": "code",
   "execution_count": 41,
   "metadata": {},
   "outputs": [],
   "source": [
    "from sklearn import preprocessing\n",
    "\n",
    "#x = X.values #returns a numpy array\n",
    "min_max_scaler = preprocessing.MinMaxScaler()\n",
    "X_scaled = min_max_scaler.fit_transform(X)\n",
    "X_normalize = pd.DataFrame(X_scaled)"
   ]
  },
  {
   "cell_type": "code",
   "execution_count": 42,
   "metadata": {},
   "outputs": [
    {
     "data": {
      "text/plain": [
       "34416"
      ]
     },
     "execution_count": 42,
     "metadata": {},
     "output_type": "execute_result"
    }
   ],
   "source": [
    "len(X)"
   ]
  },
  {
   "cell_type": "code",
   "execution_count": 43,
   "metadata": {},
   "outputs": [
    {
     "data": {
      "text/plain": [
       "34416"
      ]
     },
     "execution_count": 43,
     "metadata": {},
     "output_type": "execute_result"
    }
   ],
   "source": [
    "len(Y)"
   ]
  },
  {
   "cell_type": "code",
   "execution_count": 83,
   "metadata": {},
   "outputs": [],
   "source": [
    "Z = pd.DataFrame.copy(Y)\n",
    "Z[Y <= np.quantile(Y,0.25)] = 0 #'Very Cheap'\n",
    "Z[(Y > np.quantile(Y,0.25))&(Y <= np.quantile(Y,0.5))] = 1 #'Cheap'\n",
    "Z[(Y > np.quantile(Y,0.5))&(Y <= np.quantile(Y,0.75))] = 2 #'Expensive'\n",
    "Z[Y > np.quantile(Y,0.75)] = 3 #'Very Expensive'"
   ]
  },
  {
   "cell_type": "code",
   "execution_count": 84,
   "metadata": {},
   "outputs": [
    {
     "data": {
      "text/plain": [
       "0        0.0\n",
       "1        2.0\n",
       "2        3.0\n",
       "3        3.0\n",
       "4        2.0\n",
       "5        2.0\n",
       "6        0.0\n",
       "7        3.0\n",
       "8        1.0\n",
       "9        3.0\n",
       "10       2.0\n",
       "11       3.0\n",
       "12       0.0\n",
       "13       0.0\n",
       "14       3.0\n",
       "15       3.0\n",
       "16       3.0\n",
       "17       3.0\n",
       "18       1.0\n",
       "19       3.0\n",
       "20       3.0\n",
       "21       3.0\n",
       "22       3.0\n",
       "23       2.0\n",
       "24       1.0\n",
       "25       2.0\n",
       "26       1.0\n",
       "27       3.0\n",
       "28       2.0\n",
       "29       1.0\n",
       "        ... \n",
       "34386    3.0\n",
       "34387    2.0\n",
       "34388    0.0\n",
       "34389    1.0\n",
       "34390    2.0\n",
       "34391    2.0\n",
       "34392    3.0\n",
       "34393    2.0\n",
       "34394    2.0\n",
       "34395    2.0\n",
       "34396    2.0\n",
       "34397    3.0\n",
       "34398    3.0\n",
       "34399    2.0\n",
       "34400    2.0\n",
       "34401    0.0\n",
       "34402    2.0\n",
       "34403    3.0\n",
       "34404    3.0\n",
       "34405    2.0\n",
       "34406    2.0\n",
       "34407    2.0\n",
       "34408    3.0\n",
       "34409    0.0\n",
       "34410    0.0\n",
       "34411    0.0\n",
       "34412    1.0\n",
       "34413    0.0\n",
       "34414    1.0\n",
       "34415    2.0\n",
       "Name: onesquaremeter, Length: 34416, dtype: float64"
      ]
     },
     "execution_count": 84,
     "metadata": {},
     "output_type": "execute_result"
    }
   ],
   "source": [
    "Z"
   ]
  },
  {
   "cell_type": "code",
   "execution_count": 85,
   "metadata": {},
   "outputs": [],
   "source": [
    "import numpy as np\n",
    "from sklearn.model_selection import train_test_split\n",
    "X_train, X_test, z_train, z_test = train_test_split(X_normalize, Z, random_state=8)"
   ]
  },
  {
   "cell_type": "code",
   "execution_count": null,
   "metadata": {},
   "outputs": [],
   "source": [
    "X_train"
   ]
  },
  {
   "cell_type": "code",
   "execution_count": null,
   "metadata": {},
   "outputs": [],
   "source": [
    "X_test"
   ]
  },
  {
   "cell_type": "code",
   "execution_count": null,
   "metadata": {},
   "outputs": [],
   "source": [
    "z_test"
   ]
  },
  {
   "cell_type": "code",
   "execution_count": 52,
   "metadata": {},
   "outputs": [
    {
     "data": {
      "text/plain": [
       "25812"
      ]
     },
     "execution_count": 52,
     "metadata": {},
     "output_type": "execute_result"
    }
   ],
   "source": [
    "len(X_train)"
   ]
  },
  {
   "cell_type": "code",
   "execution_count": 57,
   "metadata": {},
   "outputs": [],
   "source": [
    "from sklearn.ensemble import RandomForestClassifier\n",
    "clf = RandomForestClassifier(n_estimators=100)\n",
    "clf = clf.fit(X_train, z_train)"
   ]
  },
  {
   "cell_type": "code",
   "execution_count": 53,
   "metadata": {},
   "outputs": [
    {
     "name": "stderr",
     "output_type": "stream",
     "text": [
      "/Users/rami/anaconda3/lib/python3.7/site-packages/sklearn/svm/base.py:929: ConvergenceWarning: Liblinear failed to converge, increase the number of iterations.\n",
      "  \"the number of iterations.\", ConvergenceWarning)\n",
      "/Users/rami/anaconda3/lib/python3.7/site-packages/sklearn/svm/base.py:929: ConvergenceWarning: Liblinear failed to converge, increase the number of iterations.\n",
      "  \"the number of iterations.\", ConvergenceWarning)\n",
      "/Users/rami/anaconda3/lib/python3.7/site-packages/sklearn/svm/base.py:929: ConvergenceWarning: Liblinear failed to converge, increase the number of iterations.\n",
      "  \"the number of iterations.\", ConvergenceWarning)\n",
      "/Users/rami/anaconda3/lib/python3.7/site-packages/sklearn/svm/base.py:929: ConvergenceWarning: Liblinear failed to converge, increase the number of iterations.\n",
      "  \"the number of iterations.\", ConvergenceWarning)\n",
      "/Users/rami/anaconda3/lib/python3.7/site-packages/sklearn/svm/base.py:929: ConvergenceWarning: Liblinear failed to converge, increase the number of iterations.\n",
      "  \"the number of iterations.\", ConvergenceWarning)\n",
      "/Users/rami/anaconda3/lib/python3.7/site-packages/sklearn/svm/base.py:929: ConvergenceWarning: Liblinear failed to converge, increase the number of iterations.\n",
      "  \"the number of iterations.\", ConvergenceWarning)\n",
      "/Users/rami/anaconda3/lib/python3.7/site-packages/sklearn/svm/base.py:929: ConvergenceWarning: Liblinear failed to converge, increase the number of iterations.\n",
      "  \"the number of iterations.\", ConvergenceWarning)\n",
      "/Users/rami/anaconda3/lib/python3.7/site-packages/sklearn/svm/base.py:929: ConvergenceWarning: Liblinear failed to converge, increase the number of iterations.\n",
      "  \"the number of iterations.\", ConvergenceWarning)\n"
     ]
    }
   ],
   "source": [
    "import time\n",
    "from sklearn.model_selection import GridSearchCV\n",
    "from sklearn.svm import LinearSVC\n",
    "t = time.time()\n",
    "param_grid ={\"C\":[0.1, 1, 10, 100]} \n",
    "search = GridSearchCV(LinearSVC(), param_grid, cv=5)\n",
    "search.fit(X_train,z_train)\n",
    "t = time.time()"
   ]
  },
  {
   "cell_type": "code",
   "execution_count": 58,
   "metadata": {},
   "outputs": [
    {
     "data": {
      "text/plain": [
       "1576048402.9862988"
      ]
     },
     "execution_count": 58,
     "metadata": {},
     "output_type": "execute_result"
    }
   ],
   "source": [
    "t"
   ]
  },
  {
   "cell_type": "code",
   "execution_count": 86,
   "metadata": {},
   "outputs": [
    {
     "data": {
      "text/plain": [
       "GridSearchCV(cv=5, error_score='raise-deprecating',\n",
       "             estimator=AdaBoostClassifier(algorithm='SAMME.R',\n",
       "                                          base_estimator=None,\n",
       "                                          learning_rate=1.0, n_estimators=50,\n",
       "                                          random_state=None),\n",
       "             iid='warn', n_jobs=None,\n",
       "             param_grid={'n_estimators': [100, 200, 300, 500]},\n",
       "             pre_dispatch='2*n_jobs', refit=True, return_train_score=False,\n",
       "             scoring=None, verbose=0)"
      ]
     },
     "execution_count": 86,
     "metadata": {},
     "output_type": "execute_result"
    }
   ],
   "source": [
    "from sklearn.ensemble import AdaBoostClassifier\n",
    "param_grid ={\"n_estimators\":[100, 200, 300, 500]} \n",
    "search = GridSearchCV(AdaBoostClassifier(), param_grid, cv=5)\n",
    "search.fit(X_train,z_train)"
   ]
  },
  {
   "cell_type": "code",
   "execution_count": 88,
   "metadata": {},
   "outputs": [
    {
     "data": {
      "text/plain": [
       "{'n_estimators': 500}"
      ]
     },
     "execution_count": 88,
     "metadata": {},
     "output_type": "execute_result"
    }
   ],
   "source": [
    "search.best_estimator_\n",
    "search.best_params_"
   ]
  },
  {
   "cell_type": "code",
   "execution_count": 89,
   "metadata": {},
   "outputs": [
    {
     "data": {
      "text/plain": [
       "AdaBoostClassifier(algorithm='SAMME.R', base_estimator=None, learning_rate=1.0,\n",
       "                   n_estimators=500, random_state=None)"
      ]
     },
     "execution_count": 89,
     "metadata": {},
     "output_type": "execute_result"
    }
   ],
   "source": [
    "clf = AdaBoostClassifier(n_estimators=500)\n",
    "clf.fit(X_train, z_train)"
   ]
  },
  {
   "cell_type": "code",
   "execution_count": 90,
   "metadata": {},
   "outputs": [],
   "source": [
    "Z_pred = clf.predict(X_test)"
   ]
  },
  {
   "cell_type": "code",
   "execution_count": 91,
   "metadata": {},
   "outputs": [],
   "source": [
    "ZZ = z_test.to_numpy()"
   ]
  },
  {
   "cell_type": "code",
   "execution_count": 92,
   "metadata": {},
   "outputs": [
    {
     "data": {
      "text/plain": [
       "0.6111111111111112"
      ]
     },
     "execution_count": 92,
     "metadata": {},
     "output_type": "execute_result"
    }
   ],
   "source": [
    "np.mean(Z_pred == z_test)"
   ]
  },
  {
   "cell_type": "code",
   "execution_count": 93,
   "metadata": {},
   "outputs": [
    {
     "data": {
      "text/plain": [
       "array([[1498.,  381.,  187.,   91.],\n",
       "       [ 415., 1169.,  464.,   63.],\n",
       "       [ 137.,  470., 1050.,  438.],\n",
       "       [ 113.,  146.,  441., 1541.]])"
      ]
     },
     "execution_count": 93,
     "metadata": {},
     "output_type": "execute_result"
    }
   ],
   "source": [
    "conf_matrix = np.zeros((4,4))\n",
    "for k in range(len(Z_pred)):\n",
    "    conf_matrix[int(Z_pred[k]), int(ZZ[k])]+= 1\n",
    "conf_matrix"
   ]
  },
  {
   "cell_type": "code",
   "execution_count": null,
   "metadata": {},
   "outputs": [],
   "source": []
  }
 ],
 "metadata": {
  "kernelspec": {
   "display_name": "Python 3",
   "language": "python",
   "name": "python3"
  },
  "language_info": {
   "codemirror_mode": {
    "name": "ipython",
    "version": 3
   },
   "file_extension": ".py",
   "mimetype": "text/x-python",
   "name": "python",
   "nbconvert_exporter": "python",
   "pygments_lexer": "ipython3",
   "version": "3.7.3"
  }
 },
 "nbformat": 4,
 "nbformat_minor": 4
}
